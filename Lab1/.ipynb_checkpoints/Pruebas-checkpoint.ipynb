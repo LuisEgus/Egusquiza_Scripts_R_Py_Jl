{
 "cells": [
  {
   "cell_type": "code",
   "execution_count": 156,
   "id": "0fb4cfd0",
   "metadata": {},
   "outputs": [
    {
     "name": "stdout",
     "output_type": "stream",
     "text": [
      "Vector = [18, 93, 114, 116, 136, 199, 205, 229, 239, 248, 270, 288, 317, 352, 394, 414, 421, 422, 456, 483]\n",
      "4.242640687119285\n",
      "9.643650760992955\n",
      "109\n",
      "111\n",
      "131\n",
      "194\n",
      "200\n",
      "224\n",
      "234\n",
      "243\n",
      "265\n",
      "283\n",
      "50\n",
      "50\n",
      "50\n",
      "50\n",
      "50\n",
      "50\n",
      "50\n",
      "50\n"
     ]
    }
   ],
   "source": [
    "#Importación de números aleatorios para la creación del Vector\n",
    "import random\n",
    "\n",
    "#Creación del Vector con números aleatorios \n",
    "Vector = random.sample(range(0, 500), 20)  #Se asigna que hayan 20 valores en el Vecto y que estén entre 0 y 500.\n",
    "Vector.sort()                              #Se ordenan los valores para que estén de mayor a menor\n",
    "print('Vector =', Vector)                  #Se indica que se muestre el Vector y sus valores \n",
    "\n",
    "#Creación de la \"if statement\"\n",
    "for i in Vector:                           #\n",
    "    if i > 0 and i <= 100:\n",
    "        print (i**0.5)             \n",
    "\n",
    "    if i > 100 and i <= 300:\n",
    "        print (i-5)\n",
    "             \n",
    "    if i > 300:\n",
    "        print(50)\n",
    "\n"
   ]
  },
  {
   "cell_type": "code",
   "execution_count": 157,
   "id": "2c3a9128",
   "metadata": {},
   "outputs": [
    {
     "name": "stdout",
     "output_type": "stream",
     "text": [
      "Vector = [20, 56, 92, 122, 151, 172, 193, 227, 239, 247, 250, 296, 328, 341, 356, 361, 409, 436, 440, 475]\n",
      "Resultado = [4.47213595499958, 7.483314773547883, 9.591663046625438, 117, 146, 167, 188, 222, 234, 242, 245, 291, 50, 50, 50, 50, 50, 50, 50, 50]\n"
     ]
    }
   ],
   "source": [
    "#Importación de números aleatorios para la creación del Vector\n",
    "import random\n",
    "\n",
    "#Creación del Vector con números aleatorios \n",
    "Vector = random.sample(range(0, 500), 20)   #Se asigna que hayan 20 valores en el Vecto y que estén entre 0 y 500.\n",
    "Vector.sort()                               #Se ordenan los valores para que estén de mayor a menor\n",
    "print('Vector =', Vector)                   #Se indica que se muestre el Vector y sus valores \n",
    "\n",
    "\n",
    "#Creación de la \"if statement\":\n",
    "for index, i in enumerate(Vector):    \n",
    "    \n",
    "    if i > 0 and i <= 100:  \n",
    "        Vector[index] = i**0.5\n",
    "        \n",
    "    if i > 100 and i <= 300:\n",
    "        Vector[index] = i-5    \n",
    "        \n",
    "    if i > 300:\n",
    "        Vector[index] = 50 \n",
    "\n",
    "\n",
    "print('Resultado =', Vector)"
   ]
  },
  {
   "cell_type": "code",
   "execution_count": 158,
   "id": "fd7aade1",
   "metadata": {},
   "outputs": [
    {
     "name": "stdout",
     "output_type": "stream",
     "text": [
      "Vector = [0, 9, 88, 103, 132, 156, 178, 194, 201, 210, 219, 229, 235, 236, 239, 266, 292, 293, 397, 430]\n",
      "Resultado = [0, 3.0, 9.38083151964686, 98, 127, 151, 173, 189, 196, 205, 214, 224, 230, 231, 234, 261, 287, 288, 50, 50]\n"
     ]
    }
   ],
   "source": [
    "\n",
    "\n",
    "#Importación de números aleatorios para la creación del Vector\n",
    "import random\n",
    "\n",
    "#Creación del Vector con números aleatorios \n",
    "Vector = random.sample(range(0, 500), 20)   #Se asigna que hayan 20 valores en el Vecto y que estén entre 0 y 500.\n",
    "Vector.sort()                               #Se ordenan los valores para que estén de mayor a menor.\n",
    "print('Vector =', Vector)                   #Se indica que se muestre el Vector y sus valores .\n",
    "\n",
    "\n",
    "#Creación de la \"if statement\":\n",
    "for index, i in enumerate(Vector):          #Se indica que cada valor del Vector se reemplazará dependiendo de en que rango se encuentre.\n",
    "    \n",
    "    if i > 0 and i <= 100:                  #Rangos qie los valores seguirán para reemplazarse por otro. \n",
    "        Vector[index] = i**0.5\n",
    "        \n",
    "    if i > 100 and i <= 300:\n",
    "        Vector[index] = i-5    \n",
    "        \n",
    "    if i > 300:\n",
    "        Vector[index] = 50 \n",
    "\n",
    "\n",
    "print('Resultado =', Vector)               #Se indica que se muestren los Resultados de reemplazar los valores del Vector inicial dependiend de su rango."
   ]
  },
  {
   "cell_type": "code",
   "execution_count": null,
   "id": "d5da55ab",
   "metadata": {},
   "outputs": [],
   "source": []
  }
 ],
 "metadata": {
  "kernelspec": {
   "display_name": "Python 3 (ipykernel)",
   "language": "python",
   "name": "python3"
  },
  "language_info": {
   "codemirror_mode": {
    "name": "ipython",
    "version": 3
   },
   "file_extension": ".py",
   "mimetype": "text/x-python",
   "name": "python",
   "nbconvert_exporter": "python",
   "pygments_lexer": "ipython3",
   "version": "3.9.12"
  }
 },
 "nbformat": 4,
 "nbformat_minor": 5
}
