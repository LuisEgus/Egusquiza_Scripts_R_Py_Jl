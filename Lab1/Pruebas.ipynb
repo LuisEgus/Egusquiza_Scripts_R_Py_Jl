{
 "cells": [
  {
   "cell_type": "code",
   "execution_count": 3,
   "id": "0fb4cfd0",
   "metadata": {},
   "outputs": [
    {
     "name": "stdout",
     "output_type": "stream",
     "text": [
      "Vector = [63, 67, 70, 83, 94, 142, 147, 148, 165, 199, 227, 240, 269, 372, 406, 419, 430, 436, 462, 476]\n",
      "7.937253933193772\n",
      "8.18535277187245\n",
      "8.366600265340756\n",
      "9.1104335791443\n",
      "9.695359714832659\n",
      "137\n",
      "142\n",
      "143\n",
      "160\n",
      "194\n",
      "222\n",
      "235\n",
      "264\n",
      "50\n",
      "50\n",
      "50\n",
      "50\n",
      "50\n",
      "50\n",
      "50\n"
     ]
    }
   ],
   "source": [
    "#Importación de números aleatorios para la creación del Vector\n",
    "import random\n",
    "\n",
    "#Creación del Vector con números aleatorios \n",
    "Vector = random.sample(range(0, 500), 20)  #Se asigna que hayan 20 valores en el Vecto y que estén entre 0 y 500.\n",
    "Vector.sort()                              #Se ordenan los valores para que estén de mayor a menor\n",
    "print('Vector =', Vector)                  #Se indica que se muestre el Vector y sus valores \n",
    "\n",
    "#Creación de la \"if statement\"\n",
    "for i in Vector:                           \n",
    "    if i > 0 and i <= 100:\n",
    "        print (i**0.5)             \n",
    "\n",
    "    if i > 100 and i <= 300:\n",
    "        print (i-5)\n",
    "             \n",
    "    if i > 300:\n",
    "        print(50)\n",
    "\n"
   ]
  },
  {
   "cell_type": "code",
   "execution_count": 10,
   "id": "fd7aade1",
   "metadata": {},
   "outputs": [
    {
     "name": "stdout",
     "output_type": "stream",
     "text": [
      "Vector = [71, 132, 139, 169, 175, 176, 207, 228, 245, 263, 279, 292, 335, 347, 355, 356, 360, 404, 422, 482]\n",
      "Resultado = [8.426149773176359, 127, 134, 164, 170, 171, 202, 223, 240, 258, 274, 287, 50, 50, 50, 50, 50, 50, 50, 50]\n"
     ]
    }
   ],
   "source": [
    "#Importación de números aleatorios para la creación del Vector\n",
    "import random\n",
    "\n",
    "#Creación del Vector con números aleatorios \n",
    "Vector = random.sample(range(0, 500), 20)   #Se asigna que hayan 20 valores en el Vecto y que estén entre 0 y 500.\n",
    "Vector.sort()                               #Se ordenan los valores para que estén de mayor a menor.\n",
    "print('Vector =', Vector)                   #Se indica que se muestre el Vector y sus valores .\n",
    "\n",
    "\n",
    "#Creación de la \"if statement\":\n",
    "for index, i in enumerate(Vector):          #Se indica que cada valor del Vector se reemplazará dependiendo de en que rango se encuentre.\n",
    "    \n",
    "    if i > 0 and i <= 100:                  #Rangos qie los valores seguirán para reemplazarse por otro. \n",
    "        Vector[index] = i**0.5\n",
    "        \n",
    "    if i > 100 and i <= 300:\n",
    "        Vector[index] = i-5    \n",
    "        \n",
    "    if i > 300:\n",
    "        Vector[index] = 50 \n",
    "\n",
    "\n",
    "print('Resultado =', Vector)               #Se indica que se muestren los Resultados de reemplazar los valores del Vector inicial dependiend de su rango."
   ]
  },
  {
   "cell_type": "code",
   "execution_count": null,
   "id": "bfd34a01",
   "metadata": {},
   "outputs": [],
   "source": []
  }
 ],
 "metadata": {
  "kernelspec": {
   "display_name": "Python 3 (ipykernel)",
   "language": "python",
   "name": "python3"
  },
  "language_info": {
   "codemirror_mode": {
    "name": "ipython",
    "version": 3
   },
   "file_extension": ".py",
   "mimetype": "text/x-python",
   "name": "python",
   "nbconvert_exporter": "python",
   "pygments_lexer": "ipython3",
   "version": "3.9.12"
  }
 },
 "nbformat": 4,
 "nbformat_minor": 5
}
