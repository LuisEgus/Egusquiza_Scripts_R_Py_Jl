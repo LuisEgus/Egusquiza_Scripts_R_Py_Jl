{
 "cells": [
  {
   "cell_type": "code",
   "execution_count": null,
   "id": "75d01c30",
   "metadata": {},
   "outputs": [],
   "source": [
    "#Importación de números aleatorios para la creación del Vector\n",
    "import random\n",
    "\n",
    "#Creación del Vector con números aleatorios \n",
    "Vector = random.sample(range(1, 500), 20)  #Se asigna que hayan 20 valores en el Vecto y que estén entre 0 y 500.\n",
    "Vector.sort()                              #Se ordenan los valores para que estén de mayor a menor\n",
    "print('Vector =', Vector)                  #Se indica que se muestre el Vector y sus valores\n",
    "\n",
    "#Creación de la \"if statement\"\n",
    "for i in Vector:\n",
    "    if i > 0 and i <= 100:\n",
    "        print (i**0.5)\n",
    "    elif i > 100 and i <= 300:\n",
    "        print (i-5)\n",
    "    elif i > 300:\n",
    "        print (50)\n"
   ]
  },
  {
   "cell_type": "code",
   "execution_count": null,
   "id": "edfec4e7",
   "metadata": {},
   "outputs": [],
   "source": [
    "#Importación de números aleatorios para la creación del Vector\n",
    "import random\n",
    "\n",
    "#Creación del Vector con números aleatorios \n",
    "Vector = random.sample(range(1, 500), 20)  #Se asigna que hayan 20 valores en el Vecto y que estén entre 0 y 500.\n",
    "Vector.sort()                              #Se ordenan los valores para que estén de mayor a menor\n",
    "print('Vector =', Vector)                  #Se \n",
    "\n",
    "i = x**0.5\n",
    "for x in Vector:\n",
    "    if x > 0 and x <= 100:\n",
    "\n",
    "i = x - 5\n",
    "for x in Vector:\n",
    "    if x > 100 and x <= 300:\n",
    "        \n",
    "i = 50\n",
    "for x in Vector:\n",
    "    if x > 300:\n",
    "        p   \n",
    "Vector2 =[n] \n",
    "print(Vector2)"
   ]
  },
  {
   "cell_type": "code",
   "execution_count": null,
   "id": "8c3b4872",
   "metadata": {},
   "outputs": [],
   "source": []
  },
  {
   "cell_type": "code",
   "execution_count": null,
   "id": "8ac5f4d9",
   "metadata": {},
   "outputs": [],
   "source": [
    "import numpy as rn\n",
    "ages = rn.array([21, 23, 25, 24, 20])\n",
    "\n",
    "for age in ages:\n",
    "\n",
    "    print(age+10 )"
   ]
  },
  {
   "cell_type": "code",
   "execution_count": null,
   "id": "4a027fde",
   "metadata": {},
   "outputs": [],
   "source": [
    "def Vector()\n",
    "\n",
    "for i in Vector:\n",
    "    if i > 0 and i <= 100:\n",
    "        print (i**0.5)\n",
    "    elif i > 100 and i <= 300:\n",
    "        print (i-5)\n",
    "    elif i > 300:\n",
    "        print (50)\n",
    "\n",
    "        \n",
    "def Vector1(n):\n",
    "    Vector2 = [0]*n\n",
    "    for i in range(n):\n",
    "        Vector[i] = random.sample(range(1, 500), 20)\n",
    "    return Vector\n",
    "\n",
    " \n",
    "    \n",
    "    result = x2 * y2   \n",
    "    if result <= 200:\n",
    "           return f\"Large number. Get only the result variable {result}\"\n",
    "    else:\n",
    "           return  print( \"Too large number. Do not return variables!\")\n"
   ]
  },
  {
   "cell_type": "code",
   "execution_count": null,
   "id": "9e1da0e9",
   "metadata": {},
   "outputs": [],
   "source": [
    "def Vector1(n):\n",
    "    Vector2 = [0]*n\n",
    "    for i in range(n):\n",
    "        Vector[i] = random.sample(range(1, 500), 20)\n",
    "    return Vector"
   ]
  },
  {
   "cell_type": "code",
   "execution_count": null,
   "id": "9b98bcaf",
   "metadata": {},
   "outputs": [],
   "source": []
  },
  {
   "cell_type": "code",
   "execution_count": null,
   "id": "072c26f0",
   "metadata": {},
   "outputs": [],
   "source": [
    "def Vector(i):\n",
    "    \n",
    "    for i in Vector:\n",
    "        if i > 0 and i <= 100:\n",
    "            print (i**0.5)\n",
    "        elif i > 100 and i <= 300:\n",
    "            print (i-5)\n",
    "        elif i > 300:\n",
    "            print (50)\n"
   ]
  },
  {
   "cell_type": "code",
   "execution_count": null,
   "id": "141f0837",
   "metadata": {},
   "outputs": [],
   "source": []
  }
 ],
 "metadata": {
  "kernelspec": {
   "display_name": "Python 3 (ipykernel)",
   "language": "python",
   "name": "python3"
  },
  "language_info": {
   "codemirror_mode": {
    "name": "ipython",
    "version": 3
   },
   "file_extension": ".py",
   "mimetype": "text/x-python",
   "name": "python",
   "nbconvert_exporter": "python",
   "pygments_lexer": "ipython3",
   "version": "3.9.12"
  }
 },
 "nbformat": 4,
 "nbformat_minor": 5
}
